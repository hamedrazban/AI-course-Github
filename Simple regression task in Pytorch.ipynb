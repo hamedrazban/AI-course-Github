{
 "cells": [
  {
   "cell_type": "markdown",
   "id": "3ec74613",
   "metadata": {},
   "source": [
    "# This is a tutorial on how to use Pytorch for a simple regression task.\n",
    "If you have any questions, reach Peihua Han in B430\n",
    "- We will use a simple feed-forward neural network for the regression task. \n",
    "- The benchmark function is $y=0.2+0.4x^2+0.3x\\sin(15x)+0.05\\cos(20x)$.\n",
    "## Build a model in Pytorch usually contains the following steps: \n",
    "1. Prepare the data\n",
    "2. Define the model\n",
    "3. Train the model\n",
    "4. Evaluate the model"
   ]
  },
  {
   "cell_type": "code",
   "execution_count": 1,
   "id": "98a50af8",
   "metadata": {},
   "outputs": [],
   "source": [
    "# import necessary library\n",
    "import numpy as np\n",
    "import torch\n",
    "import torch.nn as nn\n",
    "from torch.optim import Adam\n",
    "from torch.utils.data import TensorDataset, DataLoader\n",
    "import matplotlib.pyplot as plt"
   ]
  },
  {
   "cell_type": "markdown",
   "id": "d9b95b2a",
   "metadata": {},
   "source": [
    "## Step 1: Prepare the data\n",
    "The train and test data will be generated from $y=0.2+0.4x^2+0.3x\\sin(15x)+0.05\\cos(20x)$. "
   ]
  },
  {
   "cell_type": "markdown",
   "id": "319339af",
   "metadata": {},
   "source": [
    "## 1.1 Generate data from the benchmark function\n",
    "the input $x$ is a 2D matrix (n_samples, n_inputs), the output $y$ is a 2D matrix (n_samples, n_inputs)."
   ]
  },
  {
   "cell_type": "code",
   "execution_count": 2,
   "id": "da70323a",
   "metadata": {},
   "outputs": [],
   "source": [
    "f = lambda x: 0.2 + 0.4*x**2 + 0.3*x*np.sin(15*x) + 0.05*np.cos(20*x)\n",
    "xgrid = np.linspace(0., 1., 640)\n",
    "xgrid = np.expand_dims(xgrid, axis=1)  # x values\n",
    "fgrid = f(xgrid)  # y values\n",
    "ygrid = fgrid + 0.02*np.random.normal(size=(640, 1))  # y values with noise"
   ]
  },
  {
   "cell_type": "code",
   "execution_count": 3,
   "id": "eb5d3bb0",
   "metadata": {},
   "outputs": [
    {
     "name": "stdout",
     "output_type": "stream",
     "text": [
      "input shape:  (640, 1) output shape:  (640, 1)\n"
     ]
    }
   ],
   "source": [
    "print('input shape: ', xgrid.shape, 'output shape: ', ygrid.shape)"
   ]
  },
  {
   "cell_type": "code",
   "execution_count": 4,
   "id": "37d71e05",
   "metadata": {},
   "outputs": [
    {
     "data": {
      "text/plain": [
       "<matplotlib.legend.Legend at 0x1685199b8c8>"
      ]
     },
     "execution_count": 4,
     "metadata": {},
     "output_type": "execute_result"
    },
    {
     "data": {
      "image/png": "[encoded data removed]",
      "text/plain": [
       "<Figure size 432x288 with 1 Axes>"
      ]
     },
     "metadata": {
      "needs_background": "light"
     },
     "output_type": "display_data"
    }
   ],
   "source": [
    "plt.plot(xgrid, ygrid, '.', label='Noisy data')\n",
    "plt.plot(xgrid, fgrid, lw=2, label='Ground truth')\n",
    "plt.legend()"
   ]
  },
  {
   "cell_type": "markdown",
   "id": "d1b7a48a",
   "metadata": {},
   "source": [
    "### 1.2 put data into pytorch dataloader\n",
    "Note that we use noisy data for training instead of the ground truth"
   ]
  },
  {
   "cell_type": "code",
   "execution_count": 5,
   "id": "c17c7c64",
   "metadata": {},
   "outputs": [],
   "source": [
    "df_train = TensorDataset(torch.FloatTensor(xgrid), torch.FloatTensor(ygrid))\n",
    "train_loader = DataLoader(df_train, batch_size=32, shuffle=True)"
   ]
  },
  {
   "cell_type": "markdown",
   "id": "72c98dbc",
   "metadata": {},
   "source": [
    "## Step 2: Define the model"
   ]
  },
  {
   "cell_type": "markdown",
   "id": "812347c6",
   "metadata": {},
   "source": [
    "### 2.1 build model using torch.nn class\n",
    "We define a simple neural network model with 2 hidden layers."
   ]
  },
  {
   "cell_type": "code",
   "execution_count": 6,
   "id": "17fa8122",
   "metadata": {},
   "outputs": [],
   "source": [
    "class MLP(nn.Module):\n",
    "    # define model elements\n",
    "    def __init__(self):\n",
    "        super(MLP, self).__init__()\n",
    "        self.fc1 = nn.Linear(1, 64)   # input_size=1 (equals to n_input), hidden_size=64\n",
    "        self.fc2 = nn.Linear(64, 128)\n",
    "        self.fc3 = nn.Linear(128, 1)  # map 64 hidden state to 1\n",
    "        self.relu = nn.ReLU()\n",
    "\n",
    "    # forward propagate input\n",
    "    def forward(self, x):\n",
    "        x = self.relu(self.fc1(x))\n",
    "        x = self.relu(self.fc2(x))\n",
    "        x = self.fc3(x)\n",
    "        return x"
   ]
  },
  {
   "cell_type": "markdown",
   "id": "ba0f86ac",
   "metadata": {},
   "source": [
    "### 2.2 Instantiate the model"
   ]
  },
  {
   "cell_type": "code",
   "execution_count": 7,
   "id": "b974dc89",
   "metadata": {},
   "outputs": [],
   "source": [
    "model = MLP()"
   ]
  },
  {
   "cell_type": "markdown",
   "id": "b15eb468",
   "metadata": {},
   "source": [
    "### 2.3 Define loss function and optimizer"
   ]
  },
  {
   "cell_type": "markdown",
   "id": "f6599cae",
   "metadata": {},
   "source": [
    "we use [mean square loss](https://pytorch.org/docs/stable/generated/torch.nn.MSELoss.html) for regression and [ADAM](https://arxiv.org/abs/1412.6980) optimizer for optimizing the weights of our neural network."
   ]
  },
  {
   "cell_type": "code",
   "execution_count": 8,
   "id": "0e8067fd",
   "metadata": {},
   "outputs": [],
   "source": [
    "criterion = nn.MSELoss()  # mean square loss\n",
    "optimizer = Adam(model.parameters(), lr=1e-2)  # Instantiate a optimizer, learning_rate=0.01."
   ]
  },
  {
   "cell_type": "markdown",
   "id": "ff9bf645",
   "metadata": {},
   "source": [
    "## Step 3: Train the model\n",
    "- Training the model usually involves 2 loops. \n",
    "- The 1st loop is a loop through the dataset, which is expressed as the epoch. 3 epochs mean that the model has gone through the whole training dataset 3 times.\n",
    "- The 2nd loop is a loop throgh the batch (see how dataloader split the dataset into multiple batches, each batch contains 32 samples in our case)."
   ]
  },
  {
   "cell_type": "code",
   "execution_count": 9,
   "id": "d5eb7148",
   "metadata": {},
   "outputs": [
    {
     "name": "stdout",
     "output_type": "stream",
     "text": [
      "Train Epoch: 1/40, Train Loss: 0.049048818834126\n",
      "Train Epoch: 2/40, Train Loss: 0.019430404622107746\n",
      "Train Epoch: 3/40, Train Loss: 0.01567930169403553\n",
      "Train Epoch: 4/40, Train Loss: 0.013755379989743233\n",
      "Train Epoch: 5/40, Train Loss: 0.010915479017421603\n",
      "Train Epoch: 6/40, Train Loss: 0.009049196005798876\n",
      "Train Epoch: 7/40, Train Loss: 0.008206495293416083\n",
      "Train Epoch: 8/40, Train Loss: 0.007820514729246497\n",
      "Train Epoch: 9/40, Train Loss: 0.008212763187475502\n",
      "Train Epoch: 10/40, Train Loss: 0.008516189851798117\n",
      "Train Epoch: 11/40, Train Loss: 0.007746469206176698\n",
      "Train Epoch: 12/40, Train Loss: 0.007546776882372796\n",
      "Train Epoch: 13/40, Train Loss: 0.008503215899690986\n",
      "Train Epoch: 14/40, Train Loss: 0.0071014875778928396\n",
      "Train Epoch: 15/40, Train Loss: 0.007044844690244645\n",
      "Train Epoch: 16/40, Train Loss: 0.00662881569005549\n",
      "Train Epoch: 17/40, Train Loss: 0.006640295730903745\n",
      "Train Epoch: 18/40, Train Loss: 0.008168418984860181\n",
      "Train Epoch: 19/40, Train Loss: 0.005498489702586084\n",
      "Train Epoch: 20/40, Train Loss: 0.005639190576039255\n",
      "Train Epoch: 21/40, Train Loss: 0.005276495357975364\n",
      "Train Epoch: 22/40, Train Loss: 0.004904477763921023\n",
      "Train Epoch: 23/40, Train Loss: 0.004654403473250568\n",
      "Train Epoch: 24/40, Train Loss: 0.003524518175981939\n",
      "Train Epoch: 25/40, Train Loss: 0.0038469476043246687\n",
      "Train Epoch: 26/40, Train Loss: 0.0043074697372503575\n",
      "Train Epoch: 27/40, Train Loss: 0.0033349022502079605\n",
      "Train Epoch: 28/40, Train Loss: 0.0023099992831703275\n",
      "Train Epoch: 29/40, Train Loss: 0.0019095534808002412\n",
      "Train Epoch: 30/40, Train Loss: 0.002272337631438859\n",
      "Train Epoch: 31/40, Train Loss: 0.0021353714982979\n",
      "Train Epoch: 32/40, Train Loss: 0.002349419507663697\n",
      "Train Epoch: 33/40, Train Loss: 0.0016008649137802422\n",
      "Train Epoch: 34/40, Train Loss: 0.001642324181739241\n",
      "Train Epoch: 35/40, Train Loss: 0.0014779420744162053\n",
      "Train Epoch: 36/40, Train Loss: 0.001626751507865265\n",
      "Train Epoch: 37/40, Train Loss: 0.0024277355754747988\n",
      "Train Epoch: 38/40, Train Loss: 0.0026229742477880793\n",
      "Train Epoch: 39/40, Train Loss: 0.00177196184231434\n",
      "Train Epoch: 40/40, Train Loss: 0.0016211998561630025\n"
     ]
    }
   ],
   "source": [
    "'''Training'''\n",
    "model.train()  # set the model in training mode\n",
    "for epoch in range(40):   # loop throgh the whole dataset (1st loop)\n",
    "    train_loss = 0\n",
    "    for i, (x, y) in enumerate(train_loader):  # loop through the batch (2nd loop)\n",
    "        # clear the gradients\n",
    "        optimizer.zero_grad()\n",
    "        # forward pass (get the prediction from our model)\n",
    "        y_pred = model(x)\n",
    "        \n",
    "        # calculate the cross-entropy loss from prediction y_pred and true label y\n",
    "        loss = criterion(y_pred, y)\n",
    "        # backpropagate the error (pytorch automatically calculate the gradients for each weights in our model HARNET)\n",
    "        loss.backward()\n",
    "        # update model weights (use ADAM optimizer to update the weights in our model)\n",
    "        optimizer.step()\n",
    "        # only use to record the training loss\n",
    "        train_loss += loss.item() * x.shape[0]\n",
    "    # recorded training loss in each epoch and print it\n",
    "    train_loss /= len(train_loader.dataset)\n",
    "    print('Train Epoch: {}/40, Train Loss: {}'.format(epoch + 1, train_loss))"
   ]
  },
  {
   "cell_type": "markdown",
   "id": "bd73b567",
   "metadata": {},
   "source": [
    "## Step 4: Evaluate the model"
   ]
  },
  {
   "cell_type": "code",
   "execution_count": 10,
   "id": "b71be9c8",
   "metadata": {},
   "outputs": [],
   "source": [
    "# get model predictions\n",
    "model.eval()\n",
    "with torch.no_grad():\n",
    "    y_pred = model(torch.FloatTensor(xgrid))\n",
    "    y_pred = y_pred.numpy()"
   ]
  },
  {
   "cell_type": "code",
   "execution_count": 11,
   "id": "abfb651c",
   "metadata": {},
   "outputs": [
    {
     "data": {
      "text/plain": [
       "<matplotlib.legend.Legend at 0x16852a59bc8>"
      ]
     },
     "execution_count": 11,
     "metadata": {},
     "output_type": "execute_result"
    },
    {
     "data": {
      "image/png": "[encoded data removed]",
      "text/plain": [
       "<Figure size 432x288 with 1 Axes>"
      ]
     },
     "metadata": {
      "needs_background": "light"
     },
     "output_type": "display_data"
    }
   ],
   "source": [
    "plt.plot(xgrid, ygrid, '.', label='Noisy data')\n",
    "plt.plot(xgrid, fgrid, lw=2, label='Ground truth')\n",
    "plt.plot(xgrid, y_pred, lw=2, label='Network predictions')\n",
    "plt.legend()"
   ]
  }
 ],
 "metadata": {
  "kernelspec": {
   "display_name": "Python 3 (ipykernel)",
   "language": "python",
   "name": "python3"
  },
  "language_info": {
   "codemirror_mode": {
    "name": "ipython",
    "version": 3
   },
   "file_extension": ".py",
   "mimetype": "text/x-python",
   "name": "python",
   "nbconvert_exporter": "python",
   "pygments_lexer": "ipython3",
   "version": "3.7.7"
  }
 },
 "nbformat": 4,
 "nbformat_minor": 5
}
